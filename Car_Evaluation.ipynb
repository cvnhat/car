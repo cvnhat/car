{
 "cells": [
  {
   "cell_type": "code",
   "execution_count": 73,
   "id": "eb8e67f0",
   "metadata": {},
   "outputs": [],
   "source": [
    "import pandas as pd\n",
    "import numpy as np\n",
    "import matplotlib.pyplot as plt \n",
    "import math \n",
    "import seaborn as sns\n",
    "import category_encoders as ce\n",
    "from sklearn.model_selection import train_test_split\n",
    "import graphviz\n",
    "from sklearn import tree\n",
    "from sklearn.tree import DecisionTreeClassifier\n",
    "from sklearn.metrics import recall_score, precision_score, accuracy_score, plot_confusion_matrix, classification_report, f1_score"
   ]
  },
  {
   "cell_type": "code",
   "execution_count": 55,
   "id": "bc0a7bfc",
   "metadata": {},
   "outputs": [],
   "source": [
    "data=pd.read_csv('Car_Evaluation_Data.csv')\n",
    "data.columns = ['Price', 'Maintenance Cost', 'Number of Doors', 'Capacity', 'Size of Luggage Boot', 'Safety', 'Decision']"
   ]
  },
  {
   "cell_type": "code",
   "execution_count": 56,
   "id": "c65888dc",
   "metadata": {},
   "outputs": [
    {
     "data": {
      "text/html": [
       "<div>\n",
       "<style scoped>\n",
       "    .dataframe tbody tr th:only-of-type {\n",
       "        vertical-align: middle;\n",
       "    }\n",
       "\n",
       "    .dataframe tbody tr th {\n",
       "        vertical-align: top;\n",
       "    }\n",
       "\n",
       "    .dataframe thead th {\n",
       "        text-align: right;\n",
       "    }\n",
       "</style>\n",
       "<table border=\"1\" class=\"dataframe\">\n",
       "  <thead>\n",
       "    <tr style=\"text-align: right;\">\n",
       "      <th></th>\n",
       "      <th>Price</th>\n",
       "      <th>Maintenance Cost</th>\n",
       "      <th>Number of Doors</th>\n",
       "      <th>Capacity</th>\n",
       "      <th>Size of Luggage Boot</th>\n",
       "      <th>Safety</th>\n",
       "      <th>Decision</th>\n",
       "    </tr>\n",
       "  </thead>\n",
       "  <tbody>\n",
       "    <tr>\n",
       "      <th>0</th>\n",
       "      <td>unacc</td>\n",
       "      <td>vhigh</td>\n",
       "      <td>vhigh</td>\n",
       "      <td>2</td>\n",
       "      <td>2</td>\n",
       "      <td>small</td>\n",
       "      <td>low</td>\n",
       "    </tr>\n",
       "    <tr>\n",
       "      <th>1</th>\n",
       "      <td>unacc</td>\n",
       "      <td>vhigh</td>\n",
       "      <td>vhigh</td>\n",
       "      <td>2</td>\n",
       "      <td>2</td>\n",
       "      <td>small</td>\n",
       "      <td>med</td>\n",
       "    </tr>\n",
       "    <tr>\n",
       "      <th>2</th>\n",
       "      <td>unacc</td>\n",
       "      <td>vhigh</td>\n",
       "      <td>vhigh</td>\n",
       "      <td>2</td>\n",
       "      <td>2</td>\n",
       "      <td>small</td>\n",
       "      <td>high</td>\n",
       "    </tr>\n",
       "    <tr>\n",
       "      <th>3</th>\n",
       "      <td>unacc</td>\n",
       "      <td>vhigh</td>\n",
       "      <td>vhigh</td>\n",
       "      <td>2</td>\n",
       "      <td>2</td>\n",
       "      <td>med</td>\n",
       "      <td>low</td>\n",
       "    </tr>\n",
       "    <tr>\n",
       "      <th>4</th>\n",
       "      <td>unacc</td>\n",
       "      <td>vhigh</td>\n",
       "      <td>vhigh</td>\n",
       "      <td>2</td>\n",
       "      <td>2</td>\n",
       "      <td>med</td>\n",
       "      <td>med</td>\n",
       "    </tr>\n",
       "    <tr>\n",
       "      <th>5</th>\n",
       "      <td>unacc</td>\n",
       "      <td>vhigh</td>\n",
       "      <td>vhigh</td>\n",
       "      <td>2</td>\n",
       "      <td>2</td>\n",
       "      <td>med</td>\n",
       "      <td>high</td>\n",
       "    </tr>\n",
       "    <tr>\n",
       "      <th>6</th>\n",
       "      <td>unacc</td>\n",
       "      <td>vhigh</td>\n",
       "      <td>vhigh</td>\n",
       "      <td>2</td>\n",
       "      <td>2</td>\n",
       "      <td>big</td>\n",
       "      <td>low</td>\n",
       "    </tr>\n",
       "    <tr>\n",
       "      <th>7</th>\n",
       "      <td>unacc</td>\n",
       "      <td>vhigh</td>\n",
       "      <td>vhigh</td>\n",
       "      <td>2</td>\n",
       "      <td>2</td>\n",
       "      <td>big</td>\n",
       "      <td>med</td>\n",
       "    </tr>\n",
       "    <tr>\n",
       "      <th>8</th>\n",
       "      <td>unacc</td>\n",
       "      <td>vhigh</td>\n",
       "      <td>vhigh</td>\n",
       "      <td>2</td>\n",
       "      <td>2</td>\n",
       "      <td>big</td>\n",
       "      <td>high</td>\n",
       "    </tr>\n",
       "    <tr>\n",
       "      <th>9</th>\n",
       "      <td>unacc</td>\n",
       "      <td>vhigh</td>\n",
       "      <td>vhigh</td>\n",
       "      <td>2</td>\n",
       "      <td>4</td>\n",
       "      <td>small</td>\n",
       "      <td>low</td>\n",
       "    </tr>\n",
       "  </tbody>\n",
       "</table>\n",
       "</div>"
      ],
      "text/plain": [
       "   Price Maintenance Cost Number of Doors Capacity Size of Luggage Boot  \\\n",
       "0  unacc            vhigh           vhigh        2                    2   \n",
       "1  unacc            vhigh           vhigh        2                    2   \n",
       "2  unacc            vhigh           vhigh        2                    2   \n",
       "3  unacc            vhigh           vhigh        2                    2   \n",
       "4  unacc            vhigh           vhigh        2                    2   \n",
       "5  unacc            vhigh           vhigh        2                    2   \n",
       "6  unacc            vhigh           vhigh        2                    2   \n",
       "7  unacc            vhigh           vhigh        2                    2   \n",
       "8  unacc            vhigh           vhigh        2                    2   \n",
       "9  unacc            vhigh           vhigh        2                    4   \n",
       "\n",
       "  Safety Decision  \n",
       "0  small      low  \n",
       "1  small      med  \n",
       "2  small     high  \n",
       "3    med      low  \n",
       "4    med      med  \n",
       "5    med     high  \n",
       "6    big      low  \n",
       "7    big      med  \n",
       "8    big     high  \n",
       "9  small      low  "
      ]
     },
     "execution_count": 56,
     "metadata": {},
     "output_type": "execute_result"
    }
   ],
   "source": [
    "data.head(10)"
   ]
  },
  {
   "cell_type": "code",
   "execution_count": 57,
   "id": "e1ba4546",
   "metadata": {},
   "outputs": [
    {
     "name": "stdout",
     "output_type": "stream",
     "text": [
      "1728 of cars in original data\n"
     ]
    }
   ],
   "source": [
    "print(str(len(data.index)) + \" of cars in original data\")"
   ]
  },
  {
   "cell_type": "code",
   "execution_count": 58,
   "id": "d6dc358b",
   "metadata": {},
   "outputs": [
    {
     "name": "stdout",
     "output_type": "stream",
     "text": [
      "Feature: Maintenance Cost with ['vhigh' 'high' 'med' 'low'] Levels\n",
      "Feature: Number of Doors with ['vhigh' 'high' 'med' 'low'] Levels\n",
      "Feature: Capacity with ['2' '3' '4' '5more'] Levels\n",
      "Feature: Size of Luggage Boot with ['2' '4' 'more'] Levels\n",
      "Feature: Safety with ['small' 'med' 'big'] Levels\n",
      "Feature: Decision with ['low' 'med' 'high'] Levels\n"
     ]
    }
   ],
   "source": [
    "def show(data):\n",
    "  for i in data.columns[1:]:\n",
    "    print(\"Feature: {} with {} Levels\".format(i,data[i].unique()))\n",
    "show(data)"
   ]
  },
  {
   "cell_type": "code",
   "execution_count": 59,
   "id": "132da884",
   "metadata": {},
   "outputs": [
    {
     "name": "stdout",
     "output_type": "stream",
     "text": [
      "<class 'pandas.core.frame.DataFrame'>\n",
      "RangeIndex: 1728 entries, 0 to 1727\n",
      "Data columns (total 7 columns):\n",
      " #   Column                Non-Null Count  Dtype \n",
      "---  ------                --------------  ----- \n",
      " 0   Price                 1728 non-null   object\n",
      " 1   Maintenance Cost      1728 non-null   object\n",
      " 2   Number of Doors       1728 non-null   object\n",
      " 3   Capacity              1728 non-null   object\n",
      " 4   Size of Luggage Boot  1728 non-null   object\n",
      " 5   Safety                1728 non-null   object\n",
      " 6   Decision              1728 non-null   object\n",
      "dtypes: object(7)\n",
      "memory usage: 94.6+ KB\n"
     ]
    }
   ],
   "source": [
    "data.info()"
   ]
  },
  {
   "cell_type": "code",
   "execution_count": 60,
   "id": "813a9c9e",
   "metadata": {},
   "outputs": [
    {
     "data": {
      "text/plain": [
       "Price                   object\n",
       "Maintenance Cost        object\n",
       "Number of Doors         object\n",
       "Capacity                object\n",
       "Size of Luggage Boot    object\n",
       "Safety                  object\n",
       "Decision                object\n",
       "dtype: object"
      ]
     },
     "execution_count": 60,
     "metadata": {},
     "output_type": "execute_result"
    }
   ],
   "source": [
    "data.dtypes"
   ]
  },
  {
   "cell_type": "code",
   "execution_count": 61,
   "id": "d126b47e",
   "metadata": {},
   "outputs": [
    {
     "data": {
      "text/plain": [
       "Price                   0\n",
       "Maintenance Cost        0\n",
       "Number of Doors         0\n",
       "Capacity                0\n",
       "Size of Luggage Boot    0\n",
       "Safety                  0\n",
       "Decision                0\n",
       "dtype: int64"
      ]
     },
     "execution_count": 61,
     "metadata": {},
     "output_type": "execute_result"
    }
   ],
   "source": [
    "data.isnull().sum() "
   ]
  },
  {
   "cell_type": "code",
   "execution_count": 103,
   "id": "1956968e",
   "metadata": {},
   "outputs": [
    {
     "data": {
      "text/html": [
       "<div class='tableauPlaceholder' id='viz1637670871760' style='position: relative'><noscript><a href='#'><img alt='Car Evaluation Exploratory Data Analysis ' src='https:&#47;&#47;public.tableau.com&#47;static&#47;images&#47;ED&#47;EDAonCarEvaluation&#47;Dashboard1&#47;1_rss.png' style='border: none' /></a></noscript><object class='tableauViz'  style='display:none;'><param name='host_url' value='https%3A%2F%2Fpublic.tableau.com%2F' /> <param name='embed_code_version' value='3' /> <param name='site_root' value='' /><param name='name' value='EDAonCarEvaluation&#47;Dashboard1' /><param name='tabs' value='no' /><param name='toolbar' value='yes' /><param name='static_image' value='https:&#47;&#47;public.tableau.com&#47;static&#47;images&#47;ED&#47;EDAonCarEvaluation&#47;Dashboard1&#47;1.png' /> <param name='animate_transition' value='yes' /><param name='display_static_image' value='yes' /><param name='display_spinner' value='yes' /><param name='display_overlay' value='yes' /><param name='display_count' value='yes' /><param name='language' value='en-US' /></object></div>                <script type='text/javascript'>                    var divElement = document.getElementById('viz1637670871760');                    var vizElement = divElement.getElementsByTagName('object')[0];                    if ( divElement.offsetWidth > 800 ) { vizElement.style.width='100%';vizElement.style.height=(divElement.offsetWidth*0.75)+'px';} else if ( divElement.offsetWidth > 500 ) { vizElement.style.width='100%';vizElement.style.height=(divElement.offsetWidth*0.75)+'px';} else { vizElement.style.width='100%';vizElement.style.height='1677px';}                     var scriptElement = document.createElement('script');                    scriptElement.src = 'https://public.tableau.com/javascripts/api/viz_v1.js';                    vizElement.parentNode.insertBefore(scriptElement, vizElement);                </script>\n"
      ],
      "text/plain": [
       "<IPython.core.display.HTML object>"
      ]
     },
     "metadata": {},
     "output_type": "display_data"
    }
   ],
   "source": [
    "%%HTML\n",
    "<div class='tableauPlaceholder' id='viz1637670871760' style='position: relative'><noscript><a href='#'><img alt='Car Evaluation Exploratory Data Analysis ' src='https:&#47;&#47;public.tableau.com&#47;static&#47;images&#47;ED&#47;EDAonCarEvaluation&#47;Dashboard1&#47;1_rss.png' style='border: none' /></a></noscript><object class='tableauViz'  style='display:none;'><param name='host_url' value='https%3A%2F%2Fpublic.tableau.com%2F' /> <param name='embed_code_version' value='3' /> <param name='site_root' value='' /><param name='name' value='EDAonCarEvaluation&#47;Dashboard1' /><param name='tabs' value='no' /><param name='toolbar' value='yes' /><param name='static_image' value='https:&#47;&#47;public.tableau.com&#47;static&#47;images&#47;ED&#47;EDAonCarEvaluation&#47;Dashboard1&#47;1.png' /> <param name='animate_transition' value='yes' /><param name='display_static_image' value='yes' /><param name='display_spinner' value='yes' /><param name='display_overlay' value='yes' /><param name='display_count' value='yes' /><param name='language' value='en-US' /></object></div>                <script type='text/javascript'>                    var divElement = document.getElementById('viz1637670871760');                    var vizElement = divElement.getElementsByTagName('object')[0];                    if ( divElement.offsetWidth > 800 ) { vizElement.style.width='100%';vizElement.style.height=(divElement.offsetWidth*0.75)+'px';} else if ( divElement.offsetWidth > 500 ) { vizElement.style.width='100%';vizElement.style.height=(divElement.offsetWidth*0.75)+'px';} else { vizElement.style.width='100%';vizElement.style.height='1677px';}                     var scriptElement = document.createElement('script');                    scriptElement.src = 'https://public.tableau.com/javascripts/api/viz_v1.js';                    vizElement.parentNode.insertBefore(scriptElement, vizElement);                </script>"
   ]
  },
  {
   "cell_type": "code",
   "execution_count": 63,
   "id": "d3e6a651",
   "metadata": {},
   "outputs": [
    {
     "data": {
      "text/plain": [
       "<AxesSubplot:xlabel='Price', ylabel='count'>"
      ]
     },
     "execution_count": 63,
     "metadata": {},
     "output_type": "execute_result"
    },
    {
     "data": {
      "image/png": "[encoded data removed]",
      "text/plain": [
       "<Figure size 432x288 with 1 Axes>"
      ]
     },
     "metadata": {
      "needs_background": "light"
     },
     "output_type": "display_data"
    }
   ],
   "source": [
    "sns.countplot(x='Price', data=data)"
   ]
  },
  {
   "cell_type": "code",
   "execution_count": 64,
   "id": "529e9964",
   "metadata": {},
   "outputs": [
    {
     "data": {
      "text/plain": [
       "<AxesSubplot:xlabel='Price', ylabel='count'>"
      ]
     },
     "execution_count": 64,
     "metadata": {},
     "output_type": "execute_result"
    },
    {
     "data": {
      "image/png": "[encoded data removed]",
      "text/plain": [
       "<Figure size 432x288 with 1 Axes>"
      ]
     },
     "metadata": {
      "needs_background": "light"
     },
     "output_type": "display_data"
    }
   ],
   "source": [
    "sns.countplot(x='Price', hue='Decision', data=data)"
   ]
  },
  {
   "cell_type": "code",
   "execution_count": 65,
   "id": "3f6c2bce",
   "metadata": {},
   "outputs": [
    {
     "data": {
      "text/plain": [
       "<AxesSubplot:xlabel='Price', ylabel='count'>"
      ]
     },
     "execution_count": 65,
     "metadata": {},
     "output_type": "execute_result"
    },
    {
     "data": {
      "image/png": "[encoded data removed]",
      "text/plain": [
       "<Figure size 432x288 with 1 Axes>"
      ]
     },
     "metadata": {
      "needs_background": "light"
     },
     "output_type": "display_data"
    }
   ],
   "source": [
    "sns.countplot(x=\"Price\", hue=\"Size of Luggage Boot\", data=data)"
   ]
  },
  {
   "cell_type": "code",
   "execution_count": 66,
   "id": "7f8c88fa",
   "metadata": {},
   "outputs": [
    {
     "data": {
      "text/plain": [
       "<AxesSubplot:xlabel='Price', ylabel='count'>"
      ]
     },
     "execution_count": 66,
     "metadata": {},
     "output_type": "execute_result"
    },
    {
     "data": {
      "image/png": "[encoded data removed]",
      "text/plain": [
       "<Figure size 432x288 with 1 Axes>"
      ]
     },
     "metadata": {
      "needs_background": "light"
     },
     "output_type": "display_data"
    }
   ],
   "source": [
    "sns.countplot(x=\"Price\", hue=\"Safety\", data=data)"
   ]
  },
  {
   "cell_type": "code",
   "execution_count": 67,
   "id": "49d13992",
   "metadata": {},
   "outputs": [
    {
     "data": {
      "text/plain": [
       "<AxesSubplot:xlabel='Price', ylabel='count'>"
      ]
     },
     "execution_count": 67,
     "metadata": {},
     "output_type": "execute_result"
    },
    {
     "data": {
      "image/png": "[encoded data removed]",
      "text/plain": [
       "<Figure size 432x288 with 1 Axes>"
      ]
     },
     "metadata": {
      "needs_background": "light"
     },
     "output_type": "display_data"
    }
   ],
   "source": [
    "sns.countplot(x=\"Price\", hue=\"Capacity\", data=data)"
   ]
  },
  {
   "cell_type": "code",
   "execution_count": 68,
   "id": "5aac5e5b",
   "metadata": {},
   "outputs": [
    {
     "data": {
      "text/html": [
       "<div>\n",
       "<style scoped>\n",
       "    .dataframe tbody tr th:only-of-type {\n",
       "        vertical-align: middle;\n",
       "    }\n",
       "\n",
       "    .dataframe tbody tr th {\n",
       "        vertical-align: top;\n",
       "    }\n",
       "\n",
       "    .dataframe thead th {\n",
       "        text-align: right;\n",
       "    }\n",
       "</style>\n",
       "<table border=\"1\" class=\"dataframe\">\n",
       "  <thead>\n",
       "    <tr style=\"text-align: right;\">\n",
       "      <th></th>\n",
       "      <th>Price</th>\n",
       "      <th>Maintenance Cost</th>\n",
       "      <th>Number of Doors</th>\n",
       "      <th>Capacity</th>\n",
       "      <th>Size of Luggage Boot</th>\n",
       "      <th>Safety</th>\n",
       "      <th>Decision</th>\n",
       "    </tr>\n",
       "  </thead>\n",
       "  <tbody>\n",
       "    <tr>\n",
       "      <th>0</th>\n",
       "      <td>1</td>\n",
       "      <td>1</td>\n",
       "      <td>1</td>\n",
       "      <td>1</td>\n",
       "      <td>1</td>\n",
       "      <td>1</td>\n",
       "      <td>1</td>\n",
       "    </tr>\n",
       "    <tr>\n",
       "      <th>1</th>\n",
       "      <td>1</td>\n",
       "      <td>1</td>\n",
       "      <td>1</td>\n",
       "      <td>1</td>\n",
       "      <td>1</td>\n",
       "      <td>1</td>\n",
       "      <td>2</td>\n",
       "    </tr>\n",
       "    <tr>\n",
       "      <th>2</th>\n",
       "      <td>1</td>\n",
       "      <td>1</td>\n",
       "      <td>1</td>\n",
       "      <td>1</td>\n",
       "      <td>1</td>\n",
       "      <td>1</td>\n",
       "      <td>3</td>\n",
       "    </tr>\n",
       "    <tr>\n",
       "      <th>3</th>\n",
       "      <td>1</td>\n",
       "      <td>1</td>\n",
       "      <td>1</td>\n",
       "      <td>1</td>\n",
       "      <td>1</td>\n",
       "      <td>2</td>\n",
       "      <td>1</td>\n",
       "    </tr>\n",
       "    <tr>\n",
       "      <th>4</th>\n",
       "      <td>1</td>\n",
       "      <td>1</td>\n",
       "      <td>1</td>\n",
       "      <td>1</td>\n",
       "      <td>1</td>\n",
       "      <td>2</td>\n",
       "      <td>2</td>\n",
       "    </tr>\n",
       "    <tr>\n",
       "      <th>5</th>\n",
       "      <td>1</td>\n",
       "      <td>1</td>\n",
       "      <td>1</td>\n",
       "      <td>1</td>\n",
       "      <td>1</td>\n",
       "      <td>2</td>\n",
       "      <td>3</td>\n",
       "    </tr>\n",
       "    <tr>\n",
       "      <th>6</th>\n",
       "      <td>1</td>\n",
       "      <td>1</td>\n",
       "      <td>1</td>\n",
       "      <td>1</td>\n",
       "      <td>1</td>\n",
       "      <td>3</td>\n",
       "      <td>1</td>\n",
       "    </tr>\n",
       "    <tr>\n",
       "      <th>7</th>\n",
       "      <td>1</td>\n",
       "      <td>1</td>\n",
       "      <td>1</td>\n",
       "      <td>1</td>\n",
       "      <td>1</td>\n",
       "      <td>3</td>\n",
       "      <td>2</td>\n",
       "    </tr>\n",
       "    <tr>\n",
       "      <th>8</th>\n",
       "      <td>1</td>\n",
       "      <td>1</td>\n",
       "      <td>1</td>\n",
       "      <td>1</td>\n",
       "      <td>1</td>\n",
       "      <td>3</td>\n",
       "      <td>3</td>\n",
       "    </tr>\n",
       "    <tr>\n",
       "      <th>9</th>\n",
       "      <td>1</td>\n",
       "      <td>1</td>\n",
       "      <td>1</td>\n",
       "      <td>1</td>\n",
       "      <td>2</td>\n",
       "      <td>1</td>\n",
       "      <td>1</td>\n",
       "    </tr>\n",
       "    <tr>\n",
       "      <th>10</th>\n",
       "      <td>1</td>\n",
       "      <td>1</td>\n",
       "      <td>1</td>\n",
       "      <td>1</td>\n",
       "      <td>2</td>\n",
       "      <td>1</td>\n",
       "      <td>2</td>\n",
       "    </tr>\n",
       "    <tr>\n",
       "      <th>11</th>\n",
       "      <td>1</td>\n",
       "      <td>1</td>\n",
       "      <td>1</td>\n",
       "      <td>1</td>\n",
       "      <td>2</td>\n",
       "      <td>1</td>\n",
       "      <td>3</td>\n",
       "    </tr>\n",
       "    <tr>\n",
       "      <th>12</th>\n",
       "      <td>1</td>\n",
       "      <td>1</td>\n",
       "      <td>1</td>\n",
       "      <td>1</td>\n",
       "      <td>2</td>\n",
       "      <td>2</td>\n",
       "      <td>1</td>\n",
       "    </tr>\n",
       "    <tr>\n",
       "      <th>13</th>\n",
       "      <td>1</td>\n",
       "      <td>1</td>\n",
       "      <td>1</td>\n",
       "      <td>1</td>\n",
       "      <td>2</td>\n",
       "      <td>2</td>\n",
       "      <td>2</td>\n",
       "    </tr>\n",
       "    <tr>\n",
       "      <th>14</th>\n",
       "      <td>1</td>\n",
       "      <td>1</td>\n",
       "      <td>1</td>\n",
       "      <td>1</td>\n",
       "      <td>2</td>\n",
       "      <td>2</td>\n",
       "      <td>3</td>\n",
       "    </tr>\n",
       "  </tbody>\n",
       "</table>\n",
       "</div>"
      ],
      "text/plain": [
       "    Price  Maintenance Cost  Number of Doors  Capacity  Size of Luggage Boot  \\\n",
       "0       1                 1                1         1                     1   \n",
       "1       1                 1                1         1                     1   \n",
       "2       1                 1                1         1                     1   \n",
       "3       1                 1                1         1                     1   \n",
       "4       1                 1                1         1                     1   \n",
       "5       1                 1                1         1                     1   \n",
       "6       1                 1                1         1                     1   \n",
       "7       1                 1                1         1                     1   \n",
       "8       1                 1                1         1                     1   \n",
       "9       1                 1                1         1                     2   \n",
       "10      1                 1                1         1                     2   \n",
       "11      1                 1                1         1                     2   \n",
       "12      1                 1                1         1                     2   \n",
       "13      1                 1                1         1                     2   \n",
       "14      1                 1                1         1                     2   \n",
       "\n",
       "    Safety  Decision  \n",
       "0        1         1  \n",
       "1        1         2  \n",
       "2        1         3  \n",
       "3        2         1  \n",
       "4        2         2  \n",
       "5        2         3  \n",
       "6        3         1  \n",
       "7        3         2  \n",
       "8        3         3  \n",
       "9        1         1  \n",
       "10       1         2  \n",
       "11       1         3  \n",
       "12       2         1  \n",
       "13       2         2  \n",
       "14       2         3  "
      ]
     },
     "execution_count": 68,
     "metadata": {},
     "output_type": "execute_result"
    }
   ],
   "source": [
    "encoder = ce.OrdinalEncoder(cols = ['Price', 'Maintenance Cost', 'Number of Doors', 'Capacity', 'Size of Luggage Boot', 'Safety', 'Decision'])\n",
    "data = encoder.fit_transform(data)\n",
    "data.head(15)"
   ]
  },
  {
   "cell_type": "code",
   "execution_count": 91,
   "id": "aecaac19",
   "metadata": {},
   "outputs": [
    {
     "name": "stdout",
     "output_type": "stream",
     "text": [
      "X_train: (1209, 6)\n",
      "X_test: (519, 6)\n",
      "Y_train: (1209,)\n",
      "Y_test: (519,)\n"
     ]
    }
   ],
   "source": [
    "x = data.drop(['Price'], axis = 1)\n",
    "y = data['Price']\n",
    "\n",
    "x_train, x_test, y_train, y_test = train_test_split(x, y, test_size = 0.3, random_state = 42)\n",
    "print(\"X_train: {}\".format(x_train.shape))\n",
    "print(\"X_test: {}\".format(x_test.shape))\n",
    "print(\"Y_train: {}\".format(y_train.shape))\n",
    "print(\"Y_test: {}\".format(y_test.shape))"
   ]
  },
  {
   "cell_type": "code",
   "execution_count": 92,
   "id": "c49c3748",
   "metadata": {},
   "outputs": [],
   "source": [
    "def evaluation_parametrics(y_train,yp_train,y_test,yp_test):\n",
    "  print(\"--------------------------------------------------------------------------\")\n",
    "  print(\"Classification Report for Train Data\")\n",
    "  print(classification_report(y_train, yp_train))\n",
    "  print(\"Classification Report for Test Data\")\n",
    "  print(classification_report(y_test, yp_test))\n",
    "  print(\"--------------------------------------------------------------------------\")\n",
    "  # Accuracy\n",
    "  print(\"Accuracy on Train Data is: {}\".format(round(accuracy_score(y_train,yp_train),2)))\n",
    "  print(\"Accuracy on Test Data is: {}\".format(round(accuracy_score(y_test,yp_test),2)))\n",
    "  print(\"--------------------------------------------------------------------------\")\n",
    "  # Precision\n",
    "  print(\"Precision on Train Data is: {}\".format(round(precision_score(y_train,yp_train,average = \"weighted\"),2)))\n",
    "  print(\"Precision on Test Data is: {}\".format(round(precision_score(y_test,yp_test,average = \"weighted\"),2)))\n",
    "  print(\"--------------------------------------------------------------------------\")\n",
    "  # Recall \n",
    "  print(\"Recall on Train Data is: {}\".format(round(recall_score(y_train,yp_train,average = \"weighted\"),2)))\n",
    "  print(\"Recall on Test Data is: {}\".format(round(recall_score(y_test,yp_test,average = \"weighted\"),2)))\n",
    "  print(\"--------------------------------------------------------------------------\")\n",
    "  # F1 Score\n",
    "  print(\"F1 Score on Train Data is: {}\".format(round(f1_score(y_train,yp_train,average = \"weighted\"),2)))\n",
    "  print(\"F1 Score on Test Data is: {}\".format(round(f1_score(y_test,yp_test,average = \"weighted\"),2)))\n",
    "  print(\"--------------------------------------------------------------------------\")"
   ]
  },
  {
   "cell_type": "code",
   "execution_count": 102,
   "id": "d9bdefe9",
   "metadata": {},
   "outputs": [
    {
     "name": "stdout",
     "output_type": "stream",
     "text": [
      "--------------------------------------------------------------------------\n",
      "Classification Report for Train Data\n",
      "              precision    recall  f1-score   support\n",
      "\n",
      "           1       0.98      0.92      0.94       852\n",
      "           2       0.73      0.77      0.75       266\n",
      "           3       0.00      0.00      0.00        41\n",
      "           4       0.39      1.00      0.56        50\n",
      "\n",
      "    accuracy                           0.86      1209\n",
      "   macro avg       0.52      0.67      0.56      1209\n",
      "weighted avg       0.86      0.86      0.85      1209\n",
      "\n",
      "Classification Report for Test Data\n",
      "              precision    recall  f1-score   support\n",
      "\n",
      "           1       0.95      0.94      0.94       358\n",
      "           2       0.76      0.68      0.72       118\n",
      "           3       0.00      0.00      0.00        24\n",
      "           4       0.30      1.00      0.46        19\n",
      "\n",
      "    accuracy                           0.84       519\n",
      "   macro avg       0.50      0.65      0.53       519\n",
      "weighted avg       0.84      0.84      0.83       519\n",
      "\n",
      "--------------------------------------------------------------------------\n",
      "Accuracy on Train Data is: 0.86\n",
      "Accuracy on Test Data is: 0.84\n",
      "--------------------------------------------------------------------------\n",
      "Precision on Train Data is: 0.86\n",
      "Precision on Test Data is: 0.84\n",
      "--------------------------------------------------------------------------\n",
      "Recall on Train Data is: 0.86\n",
      "Recall on Test Data is: 0.84\n",
      "--------------------------------------------------------------------------\n",
      "F1 Score on Train Data is: 0.85\n",
      "F1 Score on Test Data is: 0.83\n",
      "--------------------------------------------------------------------------\n"
     ]
    },
    {
     "name": "stderr",
     "output_type": "stream",
     "text": [
      "C:\\Users\\LEGION\\miniconda3\\envs\\gpu\\lib\\site-packages\\sklearn\\metrics\\_classification.py:1248: UndefinedMetricWarning: Precision and F-score are ill-defined and being set to 0.0 in labels with no predicted samples. Use `zero_division` parameter to control this behavior.\n",
      "  _warn_prf(average, modifier, msg_start, len(result))\n",
      "C:\\Users\\LEGION\\miniconda3\\envs\\gpu\\lib\\site-packages\\sklearn\\metrics\\_classification.py:1248: UndefinedMetricWarning: Precision and F-score are ill-defined and being set to 0.0 in labels with no predicted samples. Use `zero_division` parameter to control this behavior.\n",
      "  _warn_prf(average, modifier, msg_start, len(result))\n",
      "C:\\Users\\LEGION\\miniconda3\\envs\\gpu\\lib\\site-packages\\sklearn\\metrics\\_classification.py:1248: UndefinedMetricWarning: Precision and F-score are ill-defined and being set to 0.0 in labels with no predicted samples. Use `zero_division` parameter to control this behavior.\n",
      "  _warn_prf(average, modifier, msg_start, len(result))\n",
      "C:\\Users\\LEGION\\miniconda3\\envs\\gpu\\lib\\site-packages\\sklearn\\metrics\\_classification.py:1248: UndefinedMetricWarning: Precision and F-score are ill-defined and being set to 0.0 in labels with no predicted samples. Use `zero_division` parameter to control this behavior.\n",
      "  _warn_prf(average, modifier, msg_start, len(result))\n",
      "C:\\Users\\LEGION\\miniconda3\\envs\\gpu\\lib\\site-packages\\sklearn\\metrics\\_classification.py:1248: UndefinedMetricWarning: Precision and F-score are ill-defined and being set to 0.0 in labels with no predicted samples. Use `zero_division` parameter to control this behavior.\n",
      "  _warn_prf(average, modifier, msg_start, len(result))\n",
      "C:\\Users\\LEGION\\miniconda3\\envs\\gpu\\lib\\site-packages\\sklearn\\metrics\\_classification.py:1248: UndefinedMetricWarning: Precision and F-score are ill-defined and being set to 0.0 in labels with no predicted samples. Use `zero_division` parameter to control this behavior.\n",
      "  _warn_prf(average, modifier, msg_start, len(result))\n",
      "C:\\Users\\LEGION\\miniconda3\\envs\\gpu\\lib\\site-packages\\sklearn\\metrics\\_classification.py:1248: UndefinedMetricWarning: Precision is ill-defined and being set to 0.0 in labels with no predicted samples. Use `zero_division` parameter to control this behavior.\n",
      "  _warn_prf(average, modifier, msg_start, len(result))\n",
      "C:\\Users\\LEGION\\miniconda3\\envs\\gpu\\lib\\site-packages\\sklearn\\metrics\\_classification.py:1248: UndefinedMetricWarning: Precision is ill-defined and being set to 0.0 in labels with no predicted samples. Use `zero_division` parameter to control this behavior.\n",
      "  _warn_prf(average, modifier, msg_start, len(result))\n"
     ]
    }
   ],
   "source": [
    "clf_en = DecisionTreeClassifier(criterion='entropy', max_depth=4, random_state=48)\n",
    "\n",
    "# fit the model\n",
    "clf_en.fit(x_train, y_train)\n",
    "\n",
    "yp_train = clf_en.predict(x_train)\n",
    "yp_test = clf_en.predict(x_test)\n",
    "\n",
    "evaluation_parametrics(y_train,yp_train,y_test,yp_test)"
   ]
  },
  {
   "cell_type": "code",
   "execution_count": 94,
   "id": "d4be13ec",
   "metadata": {},
   "outputs": [
    {
     "data": {
      "image/svg+xml": [
       "<?xml version=\"1.0\" encoding=\"UTF-8\" standalone=\"no\"?>\r\n",
       "<!DOCTYPE svg PUBLIC \"-//W3C//DTD SVG 1.1//EN\"\r\n",
       " \"http://www.w3.org/Graphics/SVG/1.1/DTD/svg11.dtd\">\r\n",
       "<!-- Generated by graphviz version 2.38.0 (20140413.2041)\r\n",
       " -->\r\n",
       "<!-- Title: Tree Pages: 1 -->\r\n",
       "<svg width=\"693pt\" height=\"552pt\"\r\n",
       " viewBox=\"0.00 0.00 693.00 552.00\" xmlns=\"http://www.w3.org/2000/svg\" xmlns:xlink=\"http://www.w3.org/1999/xlink\">\r\n",
       "<g id=\"graph0\" class=\"graph\" transform=\"scale(1 1) rotate(0) translate(4 548)\">\r\n",
       "<title>Tree</title>\r\n",
       "<polygon fill=\"white\" stroke=\"none\" points=\"-4,4 -4,-548 689,-548 689,4 -4,4\"/>\r\n",
       "<!-- 0 -->\r\n",
       "<g id=\"node1\" class=\"node\"><title>0</title>\r\n",
       "<path fill=\"#efb184\" stroke=\"black\" d=\"M242.5,-544C242.5,-544 88.5,-544 88.5,-544 82.5,-544 76.5,-538 76.5,-532 76.5,-532 76.5,-473 76.5,-473 76.5,-467 82.5,-461 88.5,-461 88.5,-461 242.5,-461 242.5,-461 248.5,-461 254.5,-467 254.5,-473 254.5,-473 254.5,-532 254.5,-532 254.5,-538 248.5,-544 242.5,-544\"/>\r\n",
       "<text text-anchor=\"start\" x=\"120\" y=\"-528.8\" font-family=\"Helvetica,sans-Serif\" font-size=\"14.00\">Decision ≤ 1.5</text>\r\n",
       "<text text-anchor=\"start\" x=\"115.5\" y=\"-513.8\" font-family=\"Helvetica,sans-Serif\" font-size=\"14.00\">entropy = 1.192</text>\r\n",
       "<text text-anchor=\"start\" x=\"114\" y=\"-498.8\" font-family=\"Helvetica,sans-Serif\" font-size=\"14.00\">samples = 1209</text>\r\n",
       "<text text-anchor=\"start\" x=\"84.5\" y=\"-483.8\" font-family=\"Helvetica,sans-Serif\" font-size=\"14.00\">value = [852, 266, 41, 50]</text>\r\n",
       "<text text-anchor=\"start\" x=\"122\" y=\"-468.8\" font-family=\"Helvetica,sans-Serif\" font-size=\"14.00\">class = unacc</text>\r\n",
       "</g>\r\n",
       "<!-- 1 -->\r\n",
       "<g id=\"node2\" class=\"node\"><title>1</title>\r\n",
       "<path fill=\"#e58139\" stroke=\"black\" d=\"M133,-417.5C133,-417.5 12,-417.5 12,-417.5 6,-417.5 0,-411.5 0,-405.5 0,-405.5 0,-361.5 0,-361.5 0,-355.5 6,-349.5 12,-349.5 12,-349.5 133,-349.5 133,-349.5 139,-349.5 145,-355.5 145,-361.5 145,-361.5 145,-405.5 145,-405.5 145,-411.5 139,-417.5 133,-417.5\"/>\r\n",
       "<text text-anchor=\"start\" x=\"30.5\" y=\"-402.3\" font-family=\"Helvetica,sans-Serif\" font-size=\"14.00\">entropy = 0.0</text>\r\n",
       "<text text-anchor=\"start\" x=\"25\" y=\"-387.3\" font-family=\"Helvetica,sans-Serif\" font-size=\"14.00\">samples = 407</text>\r\n",
       "<text text-anchor=\"start\" x=\"8\" y=\"-372.3\" font-family=\"Helvetica,sans-Serif\" font-size=\"14.00\">value = [407, 0, 0, 0]</text>\r\n",
       "<text text-anchor=\"start\" x=\"29\" y=\"-357.3\" font-family=\"Helvetica,sans-Serif\" font-size=\"14.00\">class = unacc</text>\r\n",
       "</g>\r\n",
       "<!-- 0&#45;&gt;1 -->\r\n",
       "<g id=\"edge1\" class=\"edge\"><title>0&#45;&gt;1</title>\r\n",
       "<path fill=\"none\" stroke=\"black\" d=\"M133.234,-460.907C124.2,-449.542 114.373,-437.178 105.307,-425.774\"/>\r\n",
       "<polygon fill=\"black\" stroke=\"black\" points=\"107.826,-423.317 98.8635,-417.667 102.346,-427.673 107.826,-423.317\"/>\r\n",
       "<text text-anchor=\"middle\" x=\"96.0248\" y=\"-438.805\" font-family=\"Helvetica,sans-Serif\" font-size=\"14.00\">True</text>\r\n",
       "</g>\r\n",
       "<!-- 2 -->\r\n",
       "<g id=\"node3\" class=\"node\"><title>2</title>\r\n",
       "<path fill=\"#f6d5bd\" stroke=\"black\" d=\"M341.5,-425C341.5,-425 175.5,-425 175.5,-425 169.5,-425 163.5,-419 163.5,-413 163.5,-413 163.5,-354 163.5,-354 163.5,-348 169.5,-342 175.5,-342 175.5,-342 341.5,-342 341.5,-342 347.5,-342 353.5,-348 353.5,-354 353.5,-354 353.5,-413 353.5,-413 353.5,-419 347.5,-425 341.5,-425\"/>\r\n",
       "<text text-anchor=\"start\" x=\"171.5\" y=\"-409.8\" font-family=\"Helvetica,sans-Serif\" font-size=\"14.00\">Size of Luggage Boot ≤ 1.5</text>\r\n",
       "<text text-anchor=\"start\" x=\"208.5\" y=\"-394.8\" font-family=\"Helvetica,sans-Serif\" font-size=\"14.00\">entropy = 1.469</text>\r\n",
       "<text text-anchor=\"start\" x=\"211\" y=\"-379.8\" font-family=\"Helvetica,sans-Serif\" font-size=\"14.00\">samples = 802</text>\r\n",
       "<text text-anchor=\"start\" x=\"177.5\" y=\"-364.8\" font-family=\"Helvetica,sans-Serif\" font-size=\"14.00\">value = [445, 266, 41, 50]</text>\r\n",
       "<text text-anchor=\"start\" x=\"215\" y=\"-349.8\" font-family=\"Helvetica,sans-Serif\" font-size=\"14.00\">class = unacc</text>\r\n",
       "</g>\r\n",
       "<!-- 0&#45;&gt;2 -->\r\n",
       "<g id=\"edge2\" class=\"edge\"><title>0&#45;&gt;2</title>\r\n",
       "<path fill=\"none\" stroke=\"black\" d=\"M197.766,-460.907C204.907,-451.923 212.544,-442.315 219.909,-433.05\"/>\r\n",
       "<polygon fill=\"black\" stroke=\"black\" points=\"222.809,-435.027 226.291,-425.021 217.329,-430.671 222.809,-435.027\"/>\r\n",
       "<text text-anchor=\"middle\" x=\"229.13\" y=\"-446.159\" font-family=\"Helvetica,sans-Serif\" font-size=\"14.00\">False</text>\r\n",
       "</g>\r\n",
       "<!-- 3 -->\r\n",
       "<g id=\"node4\" class=\"node\"><title>3</title>\r\n",
       "<path fill=\"#e58139\" stroke=\"black\" d=\"M229,-298.5C229,-298.5 108,-298.5 108,-298.5 102,-298.5 96,-292.5 96,-286.5 96,-286.5 96,-242.5 96,-242.5 96,-236.5 102,-230.5 108,-230.5 108,-230.5 229,-230.5 229,-230.5 235,-230.5 241,-236.5 241,-242.5 241,-242.5 241,-286.5 241,-286.5 241,-292.5 235,-298.5 229,-298.5\"/>\r\n",
       "<text text-anchor=\"start\" x=\"126.5\" y=\"-283.3\" font-family=\"Helvetica,sans-Serif\" font-size=\"14.00\">entropy = 0.0</text>\r\n",
       "<text text-anchor=\"start\" x=\"121\" y=\"-268.3\" font-family=\"Helvetica,sans-Serif\" font-size=\"14.00\">samples = 260</text>\r\n",
       "<text text-anchor=\"start\" x=\"104\" y=\"-253.3\" font-family=\"Helvetica,sans-Serif\" font-size=\"14.00\">value = [260, 0, 0, 0]</text>\r\n",
       "<text text-anchor=\"start\" x=\"125\" y=\"-238.3\" font-family=\"Helvetica,sans-Serif\" font-size=\"14.00\">class = unacc</text>\r\n",
       "</g>\r\n",
       "<!-- 2&#45;&gt;3 -->\r\n",
       "<g id=\"edge3\" class=\"edge\"><title>2&#45;&gt;3</title>\r\n",
       "<path fill=\"none\" stroke=\"black\" d=\"M227.275,-341.907C218.532,-330.542 209.022,-318.178 200.249,-306.774\"/>\r\n",
       "<polygon fill=\"black\" stroke=\"black\" points=\"202.884,-304.459 194.013,-298.667 197.336,-308.727 202.884,-304.459\"/>\r\n",
       "</g>\r\n",
       "<!-- 4 -->\r\n",
       "<g id=\"node5\" class=\"node\"><title>4</title>\r\n",
       "<path fill=\"#d5f9d2\" stroke=\"black\" d=\"M425.5,-306C425.5,-306 271.5,-306 271.5,-306 265.5,-306 259.5,-300 259.5,-294 259.5,-294 259.5,-235 259.5,-235 259.5,-229 265.5,-223 271.5,-223 271.5,-223 425.5,-223 425.5,-223 431.5,-223 437.5,-229 437.5,-235 437.5,-235 437.5,-294 437.5,-294 437.5,-300 431.5,-306 425.5,-306\"/>\r\n",
       "<text text-anchor=\"start\" x=\"274\" y=\"-290.8\" font-family=\"Helvetica,sans-Serif\" font-size=\"14.00\">Maintenance Cost ≤ 2.5</text>\r\n",
       "<text text-anchor=\"start\" x=\"298.5\" y=\"-275.8\" font-family=\"Helvetica,sans-Serif\" font-size=\"14.00\">entropy = 1.632</text>\r\n",
       "<text text-anchor=\"start\" x=\"301\" y=\"-260.8\" font-family=\"Helvetica,sans-Serif\" font-size=\"14.00\">samples = 542</text>\r\n",
       "<text text-anchor=\"start\" x=\"267.5\" y=\"-245.8\" font-family=\"Helvetica,sans-Serif\" font-size=\"14.00\">value = [185, 266, 41, 50]</text>\r\n",
       "<text text-anchor=\"start\" x=\"312.5\" y=\"-230.8\" font-family=\"Helvetica,sans-Serif\" font-size=\"14.00\">class = acc</text>\r\n",
       "</g>\r\n",
       "<!-- 2&#45;&gt;4 -->\r\n",
       "<g id=\"edge4\" class=\"edge\"><title>2&#45;&gt;4</title>\r\n",
       "<path fill=\"none\" stroke=\"black\" d=\"M289.725,-341.907C296.636,-332.923 304.027,-323.315 311.154,-314.05\"/>\r\n",
       "<polygon fill=\"black\" stroke=\"black\" points=\"314.007,-316.081 317.33,-306.021 308.459,-311.813 314.007,-316.081\"/>\r\n",
       "</g>\r\n",
       "<!-- 5 -->\r\n",
       "<g id=\"node6\" class=\"node\"><title>5</title>\r\n",
       "<path fill=\"#fbebe0\" stroke=\"black\" d=\"M325,-187C325,-187 188,-187 188,-187 182,-187 176,-181 176,-175 176,-175 176,-116 176,-116 176,-110 182,-104 188,-104 188,-104 325,-104 325,-104 331,-104 337,-110 337,-116 337,-116 337,-175 337,-175 337,-181 331,-187 325,-187\"/>\r\n",
       "<text text-anchor=\"start\" x=\"184\" y=\"-171.8\" font-family=\"Helvetica,sans-Serif\" font-size=\"14.00\">Number of Doors ≤ 2.5</text>\r\n",
       "<text text-anchor=\"start\" x=\"206.5\" y=\"-156.8\" font-family=\"Helvetica,sans-Serif\" font-size=\"14.00\">entropy = 0.995</text>\r\n",
       "<text text-anchor=\"start\" x=\"209\" y=\"-141.8\" font-family=\"Helvetica,sans-Serif\" font-size=\"14.00\">samples = 278</text>\r\n",
       "<text text-anchor=\"start\" x=\"184\" y=\"-126.8\" font-family=\"Helvetica,sans-Serif\" font-size=\"14.00\">value = [151, 127, 0, 0]</text>\r\n",
       "<text text-anchor=\"start\" x=\"213\" y=\"-111.8\" font-family=\"Helvetica,sans-Serif\" font-size=\"14.00\">class = unacc</text>\r\n",
       "</g>\r\n",
       "<!-- 4&#45;&gt;5 -->\r\n",
       "<g id=\"edge5\" class=\"edge\"><title>4&#45;&gt;5</title>\r\n",
       "<path fill=\"none\" stroke=\"black\" d=\"M316.581,-222.907C309.516,-213.923 301.961,-204.315 294.676,-195.05\"/>\r\n",
       "<polygon fill=\"black\" stroke=\"black\" points=\"297.295,-192.718 288.363,-187.021 291.792,-197.045 297.295,-192.718\"/>\r\n",
       "</g>\r\n",
       "<!-- 8 -->\r\n",
       "<g id=\"node9\" class=\"node\"><title>8</title>\r\n",
       "<path fill=\"#b2f4ad\" stroke=\"black\" d=\"M513.5,-187C513.5,-187 367.5,-187 367.5,-187 361.5,-187 355.5,-181 355.5,-175 355.5,-175 355.5,-116 355.5,-116 355.5,-110 361.5,-104 367.5,-104 367.5,-104 513.5,-104 513.5,-104 519.5,-104 525.5,-110 525.5,-116 525.5,-116 525.5,-175 525.5,-175 525.5,-181 519.5,-187 513.5,-187\"/>\r\n",
       "<text text-anchor=\"start\" x=\"368\" y=\"-171.8\" font-family=\"Helvetica,sans-Serif\" font-size=\"14.00\">Number of Doors ≤ 2.5</text>\r\n",
       "<text text-anchor=\"start\" x=\"394.5\" y=\"-156.8\" font-family=\"Helvetica,sans-Serif\" font-size=\"14.00\">entropy = 1.74</text>\r\n",
       "<text text-anchor=\"start\" x=\"393\" y=\"-141.8\" font-family=\"Helvetica,sans-Serif\" font-size=\"14.00\">samples = 264</text>\r\n",
       "<text text-anchor=\"start\" x=\"363.5\" y=\"-126.8\" font-family=\"Helvetica,sans-Serif\" font-size=\"14.00\">value = [34, 139, 41, 50]</text>\r\n",
       "<text text-anchor=\"start\" x=\"404.5\" y=\"-111.8\" font-family=\"Helvetica,sans-Serif\" font-size=\"14.00\">class = acc</text>\r\n",
       "</g>\r\n",
       "<!-- 4&#45;&gt;8 -->\r\n",
       "<g id=\"edge8\" class=\"edge\"><title>4&#45;&gt;8</title>\r\n",
       "<path fill=\"none\" stroke=\"black\" d=\"M380.419,-222.907C387.484,-213.923 395.039,-204.315 402.324,-195.05\"/>\r\n",
       "<polygon fill=\"black\" stroke=\"black\" points=\"405.208,-197.045 408.637,-187.021 399.705,-192.718 405.208,-197.045\"/>\r\n",
       "</g>\r\n",
       "<!-- 6 -->\r\n",
       "<g id=\"node7\" class=\"node\"><title>6</title>\r\n",
       "<path fill=\"#ea975c\" stroke=\"black\" d=\"M154,-68C154,-68 25,-68 25,-68 19,-68 13,-62 13,-56 13,-56 13,-12 13,-12 13,-6 19,-0 25,-0 25,-0 154,-0 154,-0 160,-0 166,-6 166,-12 166,-12 166,-56 166,-56 166,-62 160,-68 154,-68\"/>\r\n",
       "<text text-anchor=\"start\" x=\"39.5\" y=\"-52.8\" font-family=\"Helvetica,sans-Serif\" font-size=\"14.00\">entropy = 0.608</text>\r\n",
       "<text text-anchor=\"start\" x=\"42\" y=\"-37.8\" font-family=\"Helvetica,sans-Serif\" font-size=\"14.00\">samples = 134</text>\r\n",
       "<text text-anchor=\"start\" x=\"21\" y=\"-22.8\" font-family=\"Helvetica,sans-Serif\" font-size=\"14.00\">value = [114, 20, 0, 0]</text>\r\n",
       "<text text-anchor=\"start\" x=\"46\" y=\"-7.8\" font-family=\"Helvetica,sans-Serif\" font-size=\"14.00\">class = unacc</text>\r\n",
       "</g>\r\n",
       "<!-- 5&#45;&gt;6 -->\r\n",
       "<g id=\"edge6\" class=\"edge\"><title>5&#45;&gt;6</title>\r\n",
       "<path fill=\"none\" stroke=\"black\" d=\"M194.315,-103.726C179.354,-93.9161 163.414,-83.4644 148.598,-73.7496\"/>\r\n",
       "<polygon fill=\"black\" stroke=\"black\" points=\"150.302,-70.6816 140.02,-68.1252 146.463,-76.5355 150.302,-70.6816\"/>\r\n",
       "</g>\r\n",
       "<!-- 7 -->\r\n",
       "<g id=\"node8\" class=\"node\"><title>7</title>\r\n",
       "<path fill=\"#87ee7d\" stroke=\"black\" d=\"M325,-68C325,-68 196,-68 196,-68 190,-68 184,-62 184,-56 184,-56 184,-12 184,-12 184,-6 190,-0 196,-0 196,-0 325,-0 325,-0 331,-0 337,-6 337,-12 337,-12 337,-56 337,-56 337,-62 331,-68 325,-68\"/>\r\n",
       "<text text-anchor=\"start\" x=\"210.5\" y=\"-52.8\" font-family=\"Helvetica,sans-Serif\" font-size=\"14.00\">entropy = 0.822</text>\r\n",
       "<text text-anchor=\"start\" x=\"213\" y=\"-37.8\" font-family=\"Helvetica,sans-Serif\" font-size=\"14.00\">samples = 144</text>\r\n",
       "<text text-anchor=\"start\" x=\"192\" y=\"-22.8\" font-family=\"Helvetica,sans-Serif\" font-size=\"14.00\">value = [37, 107, 0, 0]</text>\r\n",
       "<text text-anchor=\"start\" x=\"224.5\" y=\"-7.8\" font-family=\"Helvetica,sans-Serif\" font-size=\"14.00\">class = acc</text>\r\n",
       "</g>\r\n",
       "<!-- 5&#45;&gt;7 -->\r\n",
       "<g id=\"edge7\" class=\"edge\"><title>5&#45;&gt;7</title>\r\n",
       "<path fill=\"none\" stroke=\"black\" d=\"M257.989,-103.726C258.289,-95.5175 258.606,-86.8595 258.909,-78.56\"/>\r\n",
       "<polygon fill=\"black\" stroke=\"black\" points=\"262.416,-78.4207 259.284,-68.2996 255.421,-78.1651 262.416,-78.4207\"/>\r\n",
       "</g>\r\n",
       "<!-- 9 -->\r\n",
       "<g id=\"node10\" class=\"node\"><title>9</title>\r\n",
       "<path fill=\"#86ee7d\" stroke=\"black\" d=\"M502,-68C502,-68 373,-68 373,-68 367,-68 361,-62 361,-56 361,-56 361,-12 361,-12 361,-6 367,-0 373,-0 373,-0 502,-0 502,-0 508,-0 514,-6 514,-12 514,-12 514,-56 514,-56 514,-62 508,-68 502,-68\"/>\r\n",
       "<text text-anchor=\"start\" x=\"387.5\" y=\"-52.8\" font-family=\"Helvetica,sans-Serif\" font-size=\"14.00\">entropy = 1.078</text>\r\n",
       "<text text-anchor=\"start\" x=\"390\" y=\"-37.8\" font-family=\"Helvetica,sans-Serif\" font-size=\"14.00\">samples = 135</text>\r\n",
       "<text text-anchor=\"start\" x=\"369\" y=\"-22.8\" font-family=\"Helvetica,sans-Serif\" font-size=\"14.00\">value = [27, 98, 10, 0]</text>\r\n",
       "<text text-anchor=\"start\" x=\"401.5\" y=\"-7.8\" font-family=\"Helvetica,sans-Serif\" font-size=\"14.00\">class = acc</text>\r\n",
       "</g>\r\n",
       "<!-- 8&#45;&gt;9 -->\r\n",
       "<g id=\"edge9\" class=\"edge\"><title>8&#45;&gt;9</title>\r\n",
       "<path fill=\"none\" stroke=\"black\" d=\"M439.383,-103.726C439.158,-95.5175 438.921,-86.8595 438.693,-78.56\"/>\r\n",
       "<polygon fill=\"black\" stroke=\"black\" points=\"442.185,-78.2 438.412,-68.2996 435.188,-78.3917 442.185,-78.2\"/>\r\n",
       "</g>\r\n",
       "<!-- 10 -->\r\n",
       "<g id=\"node11\" class=\"node\"><title>10</title>\r\n",
       "<path fill=\"#fbebfc\" stroke=\"black\" d=\"M673,-68C673,-68 544,-68 544,-68 538,-68 532,-62 532,-56 532,-56 532,-12 532,-12 532,-6 538,-0 544,-0 544,-0 673,-0 673,-0 679,-0 685,-6 685,-12 685,-12 685,-56 685,-56 685,-62 679,-68 673,-68\"/>\r\n",
       "<text text-anchor=\"start\" x=\"558.5\" y=\"-52.8\" font-family=\"Helvetica,sans-Serif\" font-size=\"14.00\">entropy = 1.778</text>\r\n",
       "<text text-anchor=\"start\" x=\"561\" y=\"-37.8\" font-family=\"Helvetica,sans-Serif\" font-size=\"14.00\">samples = 129</text>\r\n",
       "<text text-anchor=\"start\" x=\"540\" y=\"-22.8\" font-family=\"Helvetica,sans-Serif\" font-size=\"14.00\">value = [7, 41, 31, 50]</text>\r\n",
       "<text text-anchor=\"start\" x=\"567.5\" y=\"-7.8\" font-family=\"Helvetica,sans-Serif\" font-size=\"14.00\">class = good</text>\r\n",
       "</g>\r\n",
       "<!-- 8&#45;&gt;10 -->\r\n",
       "<g id=\"edge10\" class=\"edge\"><title>8&#45;&gt;10</title>\r\n",
       "<path fill=\"none\" stroke=\"black\" d=\"M503.057,-103.726C518.108,-93.9161 534.144,-83.4644 549.049,-73.7496\"/>\r\n",
       "<polygon fill=\"black\" stroke=\"black\" points=\"551.211,-76.5178 557.678,-68.1252 547.389,-70.6535 551.211,-76.5178\"/>\r\n",
       "</g>\r\n",
       "</g>\r\n",
       "</svg>\r\n"
      ],
      "text/plain": [
       "<graphviz.files.Source at 0x180eb1e3d30>"
      ]
     },
     "execution_count": 94,
     "metadata": {},
     "output_type": "execute_result"
    }
   ],
   "source": [
    "dot_data = tree.export_graphviz(clf_en, out_file=None, \n",
    "                              feature_names=x_train.columns,  \n",
    "                              class_names=['unacc', 'acc', 'vgood', 'good'],  \n",
    "                              filled=True, rounded=True,  \n",
    "                              special_characters=True)\n",
    "\n",
    "graph = graphviz.Source(dot_data) \n",
    "graph.render(\"entropy.jpg\")\n",
    "graph "
   ]
  },
  {
   "cell_type": "code",
   "execution_count": 95,
   "id": "65a8834c",
   "metadata": {},
   "outputs": [
    {
     "data": {
      "text/plain": [
       "<sklearn.metrics._plot.confusion_matrix.ConfusionMatrixDisplay at 0x180e98cc820>"
      ]
     },
     "execution_count": 95,
     "metadata": {},
     "output_type": "execute_result"
    },
    {
     "data": {
      "image/png": "[encoded data removed]",
      "text/plain": [
       "<Figure size 432x288 with 2 Axes>"
      ]
     },
     "metadata": {
      "needs_background": "light"
     },
     "output_type": "display_data"
    }
   ],
   "source": [
    "plot_confusion_matrix(clf_en, x_test, y_test)"
   ]
  }
 ],
 "metadata": {
  "kernelspec": {
   "display_name": "Python 3 (ipykernel)",
   "language": "python",
   "name": "python3"
  },
  "language_info": {
   "codemirror_mode": {
    "name": "ipython",
    "version": 3
   },
   "file_extension": ".py",
   "mimetype": "text/x-python",
   "name": "python",
   "nbconvert_exporter": "python",
   "pygments_lexer": "ipython3",
   "version": "3.9.6"
  }
 },
 "nbformat": 4,
 "nbformat_minor": 5
}
